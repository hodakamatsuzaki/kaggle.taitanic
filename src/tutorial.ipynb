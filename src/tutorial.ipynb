{
 "cells": [
  {
   "cell_type": "markdown",
   "id": "7ce0b954-f04f-4c38-80cb-d4ceffe64e11",
   "metadata": {},
   "source": [
    "# Standard Approach for Kaggle "
   ]
  },
  {
   "cell_type": "markdown",
   "id": "360b04f6-e22c-4287-9a8d-be4482562445",
   "metadata": {},
   "source": [
    "## import"
   ]
  },
  {
   "cell_type": "code",
   "execution_count": 1,
   "id": "eaca1b1f-5862-4636-8d9c-d622b4b55d85",
   "metadata": {},
   "outputs": [],
   "source": [
    "%matplotlib inline\n",
    "import numpy as np\n",
    "import pandas as pd\n",
    "import re as re\n",
    "\n",
    "from sklearn import tree"
   ]
  },
  {
   "cell_type": "markdown",
   "id": "604d68d2-a654-47bf-9450-a8c82b92459d",
   "metadata": {},
   "source": [
    "## read csv"
   ]
  },
  {
   "cell_type": "raw",
   "id": "7fcd9907-222b-43b0-bf1f-972f49a0bf98",
   "metadata": {},
   "source": [
    "PassengerId – 乗客識別ユニークID\n",
    "Survived – 生存フラグ（0=死亡、1=生存）\n",
    "Pclass – チケットクラス\n",
    "Name – 乗客の名前\n",
    "Sex – 性別（male=男性、female＝女性）\n",
    "Age – 年齢\n",
    "SibSp – タイタニックに同乗している兄弟/配偶者の数\n",
    "parch – タイタニックに同乗している親/子供の数\n",
    "ticket – チケット番号\n",
    "fare – 料金\n",
    "cabin – 客室番号\n",
    "Embarked – 出港地（タイタニックへ乗った港）"
   ]
  },
  {
   "cell_type": "raw",
   "id": "bb0f0b3a-be07-45f7-86a6-970e5621df6e",
   "metadata": {},
   "source": [
    "pclass = チケットクラス\n",
    "\n",
    "1 = 上層クラス（お金持ち）\n",
    "2 = 中級クラス（一般階級）\n",
    "3 = 下層クラス（労働階級）\n",
    "\n",
    "Embarked = 各変数の定義は下記の通り\n",
    "\n",
    "C = Cherbourg\n",
    "Q = Queenstown\n",
    "S = Southampton"
   ]
  },
  {
   "cell_type": "code",
   "execution_count": 2,
   "id": "2f04f417-bcda-4462-8b52-e9a4092d222d",
   "metadata": {},
   "outputs": [],
   "source": [
    "train = pd.read_csv('../csv/train.csv')\n",
    "test = pd.read_csv('../csv/test.csv')"
   ]
  },
  {
   "cell_type": "markdown",
   "id": "9cf418cd-9682-4465-975a-7c65665074b1",
   "metadata": {},
   "source": [
    "### confirming shape"
   ]
  },
  {
   "cell_type": "code",
   "execution_count": 5,
   "id": "c30b8df3-34f3-4208-b87f-2e61f9a6298d",
   "metadata": {},
   "outputs": [],
   "source": [
    "train_shape = train.shape\n",
    "test_shape = test.shape"
   ]
  },
  {
   "cell_type": "code",
   "execution_count": 6,
   "id": "4b75b234-7141-4ca6-996a-722b215f4b1f",
   "metadata": {},
   "outputs": [
    {
     "name": "stdout",
     "output_type": "stream",
     "text": [
      "(891, 12)\n",
      "(418, 11)\n"
     ]
    }
   ],
   "source": [
    "print(train_shape)\n",
    "print(test_shape)"
   ]
  },
  {
   "cell_type": "raw",
   "id": "ec584f19-8b7e-49ca-add2-58dbcef8f9fb",
   "metadata": {},
   "source": [
    "Ageに欠損データが存在することが解釈できる"
   ]
  },
  {
   "cell_type": "markdown",
   "id": "eb26691b-6b1a-4c42-9407-f59c8686e7f1",
   "metadata": {},
   "source": [
    "## Confirming null values"
   ]
  },
  {
   "cell_type": "code",
   "execution_count": 9,
   "id": "ca0ef0b7-9bed-4752-9f45-61b0b2a1fbc2",
   "metadata": {},
   "outputs": [],
   "source": [
    "def null_table(df):\n",
    "    null_val = df.isnull().sum()\n",
    "    null_ratio = null_val/len(df) * 100\n",
    "    null_table = pd.concat([null_val, null_ratio], axis=1)\n",
    "    null_table_ren_columns = null_table.rename(\n",
    "    columns = {0 : \"Null value\", 1 : \"%\"})\n",
    "    return null_table_ren_columns"
   ]
  },
  {
   "cell_type": "code",
   "execution_count": 10,
   "id": "a865f19f-6b1b-4d38-bc54-049278158878",
   "metadata": {},
   "outputs": [
    {
     "data": {
      "text/plain": [
       "PassengerId      0\n",
       "Survived         0\n",
       "Pclass           0\n",
       "Name             0\n",
       "Sex              0\n",
       "Age            177\n",
       "SibSp            0\n",
       "Parch            0\n",
       "Ticket           0\n",
       "Fare             0\n",
       "Cabin          687\n",
       "Embarked         2\n",
       "dtype: int64"
      ]
     },
     "execution_count": 10,
     "metadata": {},
     "output_type": "execute_result"
    }
   ],
   "source": [
    "train_null = null_table(train)\n",
    "test_null = null_table(test)\n",
    "train.isnull().sum()"
   ]
  },
  {
   "cell_type": "code",
   "execution_count": 11,
   "id": "8f5549f4-5cad-4b10-b6c5-3f9eb1ad344a",
   "metadata": {},
   "outputs": [
    {
     "data": {
      "text/html": [
       "<div>\n",
       "<style scoped>\n",
       "    .dataframe tbody tr th:only-of-type {\n",
       "        vertical-align: middle;\n",
       "    }\n",
       "\n",
       "    .dataframe tbody tr th {\n",
       "        vertical-align: top;\n",
       "    }\n",
       "\n",
       "    .dataframe thead th {\n",
       "        text-align: right;\n",
       "    }\n",
       "</style>\n",
       "<table border=\"1\" class=\"dataframe\">\n",
       "  <thead>\n",
       "    <tr style=\"text-align: right;\">\n",
       "      <th></th>\n",
       "      <th>Null value</th>\n",
       "      <th>%</th>\n",
       "    </tr>\n",
       "  </thead>\n",
       "  <tbody>\n",
       "    <tr>\n",
       "      <th>PassengerId</th>\n",
       "      <td>0</td>\n",
       "      <td>0.000000</td>\n",
       "    </tr>\n",
       "    <tr>\n",
       "      <th>Pclass</th>\n",
       "      <td>0</td>\n",
       "      <td>0.000000</td>\n",
       "    </tr>\n",
       "    <tr>\n",
       "      <th>Name</th>\n",
       "      <td>0</td>\n",
       "      <td>0.000000</td>\n",
       "    </tr>\n",
       "    <tr>\n",
       "      <th>Sex</th>\n",
       "      <td>0</td>\n",
       "      <td>0.000000</td>\n",
       "    </tr>\n",
       "    <tr>\n",
       "      <th>Age</th>\n",
       "      <td>86</td>\n",
       "      <td>20.574163</td>\n",
       "    </tr>\n",
       "    <tr>\n",
       "      <th>SibSp</th>\n",
       "      <td>0</td>\n",
       "      <td>0.000000</td>\n",
       "    </tr>\n",
       "    <tr>\n",
       "      <th>Parch</th>\n",
       "      <td>0</td>\n",
       "      <td>0.000000</td>\n",
       "    </tr>\n",
       "    <tr>\n",
       "      <th>Ticket</th>\n",
       "      <td>0</td>\n",
       "      <td>0.000000</td>\n",
       "    </tr>\n",
       "    <tr>\n",
       "      <th>Fare</th>\n",
       "      <td>1</td>\n",
       "      <td>0.239234</td>\n",
       "    </tr>\n",
       "    <tr>\n",
       "      <th>Cabin</th>\n",
       "      <td>327</td>\n",
       "      <td>78.229665</td>\n",
       "    </tr>\n",
       "    <tr>\n",
       "      <th>Embarked</th>\n",
       "      <td>0</td>\n",
       "      <td>0.000000</td>\n",
       "    </tr>\n",
       "  </tbody>\n",
       "</table>\n",
       "</div>"
      ],
      "text/plain": [
       "             Null value          %\n",
       "PassengerId           0   0.000000\n",
       "Pclass                0   0.000000\n",
       "Name                  0   0.000000\n",
       "Sex                   0   0.000000\n",
       "Age                  86  20.574163\n",
       "SibSp                 0   0.000000\n",
       "Parch                 0   0.000000\n",
       "Ticket                0   0.000000\n",
       "Fare                  1   0.239234\n",
       "Cabin               327  78.229665\n",
       "Embarked              0   0.000000"
      ]
     },
     "execution_count": 11,
     "metadata": {},
     "output_type": "execute_result"
    }
   ],
   "source": [
    "test_null"
   ]
  },
  {
   "cell_type": "markdown",
   "id": "54409863-4d8e-497b-a649-72ce898ddec7",
   "metadata": {},
   "source": [
    "## Pre-processing"
   ]
  },
  {
   "cell_type": "raw",
   "id": "f2bd15eb-dafe-43d5-9839-b9e285584853",
   "metadata": {},
   "source": [
    "(1) 欠損データを代理データに入れ替える"
   ]
  },
  {
   "cell_type": "code",
   "execution_count": 12,
   "id": "4a91552e-309d-4425-9748-bb2dc708db9c",
   "metadata": {},
   "outputs": [],
   "source": [
    "train[\"Age\"] = train[\"Age\"].fillna(train[\"Age\"].median()) #中央値を代入(1)\n",
    "test[\"Age\"] = test[\"Age\"].fillna(test[\"Age\"].median())\n",
    "train[\"Embarked\"] = train[\"Embarked\"].fillna(\"S\") #最頻出のSを代入(1)\n",
    "test[\"Fare\"] = test[\"Fare\"].fillna(test[\"Fare\"].median())"
   ]
  },
  {
   "cell_type": "raw",
   "id": "6ee57234-3447-4184-b679-a19f59807d82",
   "metadata": {},
   "source": [
    "(2) 文字列カテゴリカルデータを数字へ変換"
   ]
  },
  {
   "cell_type": "code",
   "execution_count": 13,
   "id": "0de4e9c7-02cc-48cb-916d-45f00907c68b",
   "metadata": {},
   "outputs": [
    {
     "name": "stderr",
     "output_type": "stream",
     "text": [
      "/tmp/ipykernel_1393/1239005184.py:1: SettingWithCopyWarning: \n",
      "A value is trying to be set on a copy of a slice from a DataFrame\n",
      "\n",
      "See the caveats in the documentation: https://pandas.pydata.org/pandas-docs/stable/user_guide/indexing.html#returning-a-view-versus-a-copy\n",
      "  train[\"Sex\"][train[\"Sex\"] == \"male\"] = 0\n",
      "/tmp/ipykernel_1393/1239005184.py:2: SettingWithCopyWarning: \n",
      "A value is trying to be set on a copy of a slice from a DataFrame\n",
      "\n",
      "See the caveats in the documentation: https://pandas.pydata.org/pandas-docs/stable/user_guide/indexing.html#returning-a-view-versus-a-copy\n",
      "  train[\"Sex\"][train[\"Sex\"] == \"female\"] = 1\n",
      "/tmp/ipykernel_1393/1239005184.py:3: SettingWithCopyWarning: \n",
      "A value is trying to be set on a copy of a slice from a DataFrame\n",
      "\n",
      "See the caveats in the documentation: https://pandas.pydata.org/pandas-docs/stable/user_guide/indexing.html#returning-a-view-versus-a-copy\n",
      "  train[\"Embarked\"][train[\"Embarked\"] == \"S\"] = 0\n",
      "/tmp/ipykernel_1393/1239005184.py:4: SettingWithCopyWarning: \n",
      "A value is trying to be set on a copy of a slice from a DataFrame\n",
      "\n",
      "See the caveats in the documentation: https://pandas.pydata.org/pandas-docs/stable/user_guide/indexing.html#returning-a-view-versus-a-copy\n",
      "  train[\"Embarked\"][train[\"Embarked\"] == \"C\"] = 1\n",
      "/tmp/ipykernel_1393/1239005184.py:5: SettingWithCopyWarning: \n",
      "A value is trying to be set on a copy of a slice from a DataFrame\n",
      "\n",
      "See the caveats in the documentation: https://pandas.pydata.org/pandas-docs/stable/user_guide/indexing.html#returning-a-view-versus-a-copy\n",
      "  train[\"Embarked\"][train[\"Embarked\"] == \"Q\"] = 2\n",
      "/tmp/ipykernel_1393/1239005184.py:7: SettingWithCopyWarning: \n",
      "A value is trying to be set on a copy of a slice from a DataFrame\n",
      "\n",
      "See the caveats in the documentation: https://pandas.pydata.org/pandas-docs/stable/user_guide/indexing.html#returning-a-view-versus-a-copy\n",
      "  test[\"Sex\"][test[\"Sex\"] == \"male\"] = 0\n",
      "/tmp/ipykernel_1393/1239005184.py:8: SettingWithCopyWarning: \n",
      "A value is trying to be set on a copy of a slice from a DataFrame\n",
      "\n",
      "See the caveats in the documentation: https://pandas.pydata.org/pandas-docs/stable/user_guide/indexing.html#returning-a-view-versus-a-copy\n",
      "  test[\"Sex\"][test[\"Sex\"] == \"female\"] = 1\n",
      "/tmp/ipykernel_1393/1239005184.py:9: SettingWithCopyWarning: \n",
      "A value is trying to be set on a copy of a slice from a DataFrame\n",
      "\n",
      "See the caveats in the documentation: https://pandas.pydata.org/pandas-docs/stable/user_guide/indexing.html#returning-a-view-versus-a-copy\n",
      "  test[\"Embarked\"][test[\"Embarked\"] == \"S\"] = 0\n",
      "/tmp/ipykernel_1393/1239005184.py:10: SettingWithCopyWarning: \n",
      "A value is trying to be set on a copy of a slice from a DataFrame\n",
      "\n",
      "See the caveats in the documentation: https://pandas.pydata.org/pandas-docs/stable/user_guide/indexing.html#returning-a-view-versus-a-copy\n",
      "  test[\"Embarked\"][test[\"Embarked\"] == \"C\"] = 1\n",
      "/tmp/ipykernel_1393/1239005184.py:11: SettingWithCopyWarning: \n",
      "A value is trying to be set on a copy of a slice from a DataFrame\n",
      "\n",
      "See the caveats in the documentation: https://pandas.pydata.org/pandas-docs/stable/user_guide/indexing.html#returning-a-view-versus-a-copy\n",
      "  test[\"Embarked\"][test[\"Embarked\"] == \"Q\"] = 2\n"
     ]
    }
   ],
   "source": [
    "train[\"Sex\"][train[\"Sex\"] == \"male\"] = 0\n",
    "train[\"Sex\"][train[\"Sex\"] == \"female\"] = 1\n",
    "train[\"Embarked\"][train[\"Embarked\"] == \"S\"] = 0\n",
    "train[\"Embarked\"][train[\"Embarked\"] == \"C\"] = 1\n",
    "train[\"Embarked\"][train[\"Embarked\"] == \"Q\"] = 2\n",
    "\n",
    "test[\"Sex\"][test[\"Sex\"] == \"male\"] = 0\n",
    "test[\"Sex\"][test[\"Sex\"] == \"female\"] = 1\n",
    "test[\"Embarked\"][test[\"Embarked\"] == \"S\"] = 0\n",
    "test[\"Embarked\"][test[\"Embarked\"] == \"C\"] = 1\n",
    "test[\"Embarked\"][test[\"Embarked\"] == \"Q\"] = 2"
   ]
  },
  {
   "cell_type": "markdown",
   "id": "a67eeaa6-8e6b-4475-9c89-7cf1df686926",
   "metadata": {},
   "source": [
    "## Predictive model"
   ]
  },
  {
   "cell_type": "markdown",
   "id": "863fe7ba-9f3a-48f2-a084-32257d84e9cb",
   "metadata": {},
   "source": [
    "### Decision tree"
   ]
  },
  {
   "cell_type": "raw",
   "id": "cd58c191-2028-45ad-af81-0ee732779802",
   "metadata": {},
   "source": [
    "Use : Pclass, Sex, Age, Fare"
   ]
  },
  {
   "cell_type": "code",
   "execution_count": 44,
   "id": "3a7120c8-a10a-466b-aef2-479267d2829e",
   "metadata": {},
   "outputs": [],
   "source": [
    "#trainの目的変数と説明変数の値を取得\n",
    "target = train[\"Survived\"].values\n",
    "train_features_one = train[[\"Pclass\", \"Sex\", \"Age\", \"Fare\"]].values\n",
    "train_features_two = train[[\"Pclass\", \"Sex\", \"Age\", \"Fare\", \"SibSp\", \"Parch\", \"Embarked\"]].values\n",
    "\n",
    "#決定木の作成\n",
    "max_depth = 10\n",
    "min_samples_split = 5\n",
    "my_tree_one = tree.DecisionTreeClassifier() #とりまデフォルト設定 \n",
    "my_tree_two = tree.DecisionTreeClassifier(max_depth=max_depth, min_samples_split=min_samples_split) #過学習抑制\n",
    "\n",
    "my_tree_one = my_tree_one.fit(train_features_one, target)\n",
    "my_tree_two = my_tree_two.fit(train_features_two, target)\n",
    "\n",
    "#testの説明変数の値を取得\n",
    "test_features_one = test[[\"Pclass\", \"Sex\", \"Age\", \"Fare\"]].values\n",
    "test_features_two = test[[\"Pclass\", \"Sex\", \"Age\", \"Fare\", \"SibSp\", \"Parch\", \"Embarked\"]].values\n",
    "\n",
    "#testの説明変数を使ってmy_tree_oneの構築モデルで予測する\n",
    "predict_one = my_tree_one.predict(test_features_one)\n",
    "predict_two = my_tree_two.predict(test_features_two)"
   ]
  },
  {
   "cell_type": "markdown",
   "id": "693dac1f-b5a1-4041-b718-4ed4623c5005",
   "metadata": {},
   "source": [
    "## save"
   ]
  },
  {
   "cell_type": "code",
   "execution_count": 46,
   "id": "a4a60294-6afb-46dd-b926-356f420d6cf4",
   "metadata": {},
   "outputs": [],
   "source": [
    "#PassengerIdを取得\n",
    "PassengerId = np.array(test[\"PassengerId\"]).astype(int)\n",
    "\n",
    "#predictionとPassengerIdをDataFrameに落とし込む\n",
    "my_solution_one = pd.DataFrame(predict_one, PassengerId, columns=[\"Survived\"])\n",
    "my_solution_two = pd.DataFrame(predict_two, PassengerId, columns=[\"Survived\"])\n",
    "\n",
    "#save\n",
    "my_solution_one.to_csv(\"my_tree_one.csv\", index_label=[\"PassengerId\"])\n",
    "my_solution_two.to_csv(\"my_tree_two.csv\", index_label=[\"PassengerId\"])"
   ]
  },
  {
   "cell_type": "code",
   "execution_count": 35,
   "id": "bb916e10-7249-4b84-b401-7fe4ec3f24b8",
   "metadata": {},
   "outputs": [
    {
     "data": {
      "text/html": [
       "<div>\n",
       "<style scoped>\n",
       "    .dataframe tbody tr th:only-of-type {\n",
       "        vertical-align: middle;\n",
       "    }\n",
       "\n",
       "    .dataframe tbody tr th {\n",
       "        vertical-align: top;\n",
       "    }\n",
       "\n",
       "    .dataframe thead th {\n",
       "        text-align: right;\n",
       "    }\n",
       "</style>\n",
       "<table border=\"1\" class=\"dataframe\">\n",
       "  <thead>\n",
       "    <tr style=\"text-align: right;\">\n",
       "      <th></th>\n",
       "      <th>Survived</th>\n",
       "    </tr>\n",
       "  </thead>\n",
       "  <tbody>\n",
       "    <tr>\n",
       "      <th>892</th>\n",
       "      <td>0</td>\n",
       "    </tr>\n",
       "    <tr>\n",
       "      <th>893</th>\n",
       "      <td>0</td>\n",
       "    </tr>\n",
       "    <tr>\n",
       "      <th>894</th>\n",
       "      <td>1</td>\n",
       "    </tr>\n",
       "    <tr>\n",
       "      <th>895</th>\n",
       "      <td>1</td>\n",
       "    </tr>\n",
       "    <tr>\n",
       "      <th>896</th>\n",
       "      <td>1</td>\n",
       "    </tr>\n",
       "    <tr>\n",
       "      <th>...</th>\n",
       "      <td>...</td>\n",
       "    </tr>\n",
       "    <tr>\n",
       "      <th>1305</th>\n",
       "      <td>0</td>\n",
       "    </tr>\n",
       "    <tr>\n",
       "      <th>1306</th>\n",
       "      <td>1</td>\n",
       "    </tr>\n",
       "    <tr>\n",
       "      <th>1307</th>\n",
       "      <td>0</td>\n",
       "    </tr>\n",
       "    <tr>\n",
       "      <th>1308</th>\n",
       "      <td>0</td>\n",
       "    </tr>\n",
       "    <tr>\n",
       "      <th>1309</th>\n",
       "      <td>0</td>\n",
       "    </tr>\n",
       "  </tbody>\n",
       "</table>\n",
       "<p>418 rows × 1 columns</p>\n",
       "</div>"
      ],
      "text/plain": [
       "      Survived\n",
       "892          0\n",
       "893          0\n",
       "894          1\n",
       "895          1\n",
       "896          1\n",
       "...        ...\n",
       "1305         0\n",
       "1306         1\n",
       "1307         0\n",
       "1308         0\n",
       "1309         0\n",
       "\n",
       "[418 rows x 1 columns]"
      ]
     },
     "execution_count": 35,
     "metadata": {},
     "output_type": "execute_result"
    }
   ],
   "source": []
  },
  {
   "cell_type": "code",
   "execution_count": null,
   "id": "00a25795-c974-4808-96f9-a8950ed7b061",
   "metadata": {},
   "outputs": [],
   "source": []
  }
 ],
 "metadata": {
  "kernelspec": {
   "display_name": "Python 3 (ipykernel)",
   "language": "python",
   "name": "python3"
  },
  "language_info": {
   "codemirror_mode": {
    "name": "ipython",
    "version": 3
   },
   "file_extension": ".py",
   "mimetype": "text/x-python",
   "name": "python",
   "nbconvert_exporter": "python",
   "pygments_lexer": "ipython3",
   "version": "3.8.10"
  }
 },
 "nbformat": 4,
 "nbformat_minor": 5
}
