{
 "cells": [
  {
   "cell_type": "markdown",
   "id": "7ce0b954-f04f-4c38-80cb-d4ceffe64e11",
   "metadata": {},
   "source": [
    "# Standard Approach for Kaggle "
   ]
  },
  {
   "cell_type": "markdown",
   "id": "360b04f6-e22c-4287-9a8d-be4482562445",
   "metadata": {},
   "source": [
    "## import"
   ]
  },
  {
   "cell_type": "code",
   "execution_count": 1,
   "id": "eaca1b1f-5862-4636-8d9c-d622b4b55d85",
   "metadata": {},
   "outputs": [
    {
     "name": "stderr",
     "output_type": "stream",
     "text": [
      "Matplotlib is building the font cache; this may take a moment.\n"
     ]
    }
   ],
   "source": [
    "%matplotlib inline\n",
    "import numpy as np\n",
    "import pandas as pd\n",
    "import re as re"
   ]
  },
  {
   "cell_type": "code",
   "execution_count": null,
   "id": "4f9cb409-4113-425d-a02f-b25c21339e37",
   "metadata": {},
   "outputs": [],
   "source": []
  }
 ],
 "metadata": {
  "kernelspec": {
   "display_name": "Python 3 (ipykernel)",
   "language": "python",
   "name": "python3"
  },
  "language_info": {
   "codemirror_mode": {
    "name": "ipython",
    "version": 3
   },
   "file_extension": ".py",
   "mimetype": "text/x-python",
   "name": "python",
   "nbconvert_exporter": "python",
   "pygments_lexer": "ipython3",
   "version": "3.8.10"
  }
 },
 "nbformat": 4,
 "nbformat_minor": 5
}
